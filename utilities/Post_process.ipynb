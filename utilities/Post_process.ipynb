{
 "cells": [
  {
   "cell_type": "markdown",
   "id": "78589c70-f9ae-4fea-a0e1-608585e04abc",
   "metadata": {},
   "source": [
    "# Post process utilities"
   ]
  },
  {
   "cell_type": "code",
   "execution_count": 1,
   "id": "19cf4bb4-97a7-4691-ae9f-97b5b95bfb29",
   "metadata": {},
   "outputs": [],
   "source": [
    "from LSS_forward_model.PKDGRAV_and_postprocessing_utilities import *"
   ]
  },
  {
   "cell_type": "code",
   "execution_count": 11,
   "id": "e039cd58-5684-4d88-bef0-86c829266f75",
   "metadata": {},
   "outputs": [
    {
     "name": "stdout",
     "output_type": "stream",
     "text": [
      "Writing data to /global/cfs/cdirs/m5099/GowerSt2/Flamingo/z_values.txt...\n",
      "100.0% | [##########] | Progress: 100 / 100 | Time: 9.6s | ETA: --             "
     ]
    }
   ],
   "source": [
    "path_simulation = '/global/cfs/cdirs/m5099/GowerSt2/Flamingo/'\n",
    "\n",
    "# read cosmology\n",
    "sims_parameters, cosmo_pyccl, camb_pars, colossus_pars = read_sims_params(path_simulation)    \n",
    "\n",
    "#build extra info files\n",
    "build_z_values_file(path_simulation,'run',out_dir=path_simulation,sims_parameters = sims_parameters)\n",
    "resume = recover_shell_info(path_simulation + '/z_values.txt',max_z=sims_parameters['max_z'])\n",
    "\n",
    "# convert particle counts to parquet \n",
    "convert_and_cleanup(base_dir=path_simulation, resume=resume, nside=int(sims_parameters['nSideHealpix']), z_max_for_convert=6.0)\n",
    "# convert halo catalogs to parquet\n",
    "convert_fof_and_cleanup(base_dir= path_simulation, resume = resume, sims_parameters = sims_parameters, z_max_for_convert=6.0)"
   ]
  },
  {
   "cell_type": "code",
   "execution_count": null,
   "id": "be6290b6-5515-4231-9b6c-9cd40333d574",
   "metadata": {},
   "outputs": [
    {
     "name": "stdout",
     "output_type": "stream",
     "text": [
      " 74.0% | [#######...] | Progress: 74 / 100 | Time: 29min9s | ETA: 10min15s     "
     ]
    }
   ],
   "source": []
  }
 ],
 "metadata": {
  "kernelspec": {
   "display_name": "pyccl_env",
   "language": "python",
   "name": "pyccl_env"
  },
  "language_info": {
   "codemirror_mode": {
    "name": "ipython",
    "version": 3
   },
   "file_extension": ".py",
   "mimetype": "text/x-python",
   "name": "python",
   "nbconvert_exporter": "python",
   "pygments_lexer": "ipython3",
   "version": "3.11.10"
  }
 },
 "nbformat": 4,
 "nbformat_minor": 5
}
